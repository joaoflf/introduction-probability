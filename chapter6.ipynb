{
 "cells": [
  {
   "cell_type": "code",
   "execution_count": 189,
   "metadata": {},
   "outputs": [
    {
     "data": {
      "text/plain": [
       "0.3333333333333333"
      ]
     },
     "execution_count": 189,
     "metadata": {},
     "output_type": "execute_result"
    }
   ],
   "source": [
    "import math\n",
    "from scipy.stats import uniform, norm\n",
    "import numpy as np\n",
    "from scipy import integrate\n",
    "import matplotlib.pyplot as plt\n",
    "\n",
    "def expectancy_nth_moment(n, pdf, mean, std):\n",
    "    # build function to integrate to calculate expectancy f = X**n * pdf\n",
    "    fn = lambda x: (x**n * pdf(x, mean, std))\n",
    "    # integrate between -inf and +inf\n",
    "    res, err = integrate.quad(fn, -1*math.inf, math.inf)\n",
    "    return res\n",
    "\n",
    "expectancy_nth_moment(6, norm.pdf, 0, 1)\n",
    "expectancy_nth_moment(2, uniform.pdf, -1, 1)"
   ]
  }
 ],
 "metadata": {
  "kernelspec": {
   "display_name": "Python 3",
   "language": "python",
   "name": "python3"
  },
  "language_info": {
   "codemirror_mode": {
    "name": "ipython",
    "version": 3
   },
   "file_extension": ".py",
   "mimetype": "text/x-python",
   "name": "python",
   "nbconvert_exporter": "python",
   "pygments_lexer": "ipython3",
   "version": "3.7.4"
  }
 },
 "nbformat": 4,
 "nbformat_minor": 4
}
